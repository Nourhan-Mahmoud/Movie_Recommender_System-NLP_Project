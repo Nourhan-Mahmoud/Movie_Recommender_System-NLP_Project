{
 "cells": [
  {
   "cell_type": "code",
   "execution_count": 1,
   "metadata": {},
   "outputs": [
    {
     "name": "stdout",
     "output_type": "stream",
     "text": [
      "Requirement already satisfied: gensim in c:\\users\\emad\\anaconda3\\lib\\site-packages (4.1.2)\n",
      "Requirement already satisfied: smart-open>=1.8.1 in c:\\users\\emad\\anaconda3\\lib\\site-packages (from gensim) (5.2.1)\n",
      "Requirement already satisfied: scipy>=0.18.1 in c:\\users\\emad\\anaconda3\\lib\\site-packages (from gensim) (1.9.1)\n",
      "Requirement already satisfied: numpy>=1.17.0 in c:\\users\\emad\\anaconda3\\lib\\site-packages (from gensim) (1.21.5)\n",
      "Note: you may need to restart the kernel to use updated packages.\n"
     ]
    }
   ],
   "source": [
    "pip install gensim"
   ]
  },
  {
   "cell_type": "code",
   "execution_count": 5,
   "metadata": {},
   "outputs": [],
   "source": [
    "import pandas as pd\n",
    "import numpy as np\n",
    "from gensim.models import Word2Vec\n",
    "from sklearn.metrics.pairwise import cosine_similarity"
   ]
  },
  {
   "cell_type": "code",
   "execution_count": 6,
   "metadata": {},
   "outputs": [],
   "source": [
    "data = pd.read_csv('movies.csv')\n",
    "X = np.array(data.genres)\n",
    "text_data = X"
   ]
  },
  {
   "cell_type": "code",
   "execution_count": 9,
   "metadata": {},
   "outputs": [],
   "source": [
    "tokenized_data = [text.split() for text in text_data]\n",
    "model = Word2Vec(tokenized_data, min_count=1)"
   ]
  },
  {
   "cell_type": "code",
   "execution_count": 10,
   "metadata": {},
   "outputs": [],
   "source": [
    "# Embedding function\n",
    "def embed_text(text):\n",
    "    embedded_vector = []\n",
    "    for word in text:\n",
    "        if word in model.wv:\n",
    "            embedded_vector.append(model.wv[word])\n",
    "    if len(embedded_vector) > 0:\n",
    "        return np.mean(embedded_vector, axis=0)\n",
    "    else:\n",
    "        return np.zeros(model.vector_size)"
   ]
  },
  {
   "cell_type": "code",
   "execution_count": 11,
   "metadata": {},
   "outputs": [],
   "source": [
    "# Compute embeddings for the text data\n",
    "embeddings = np.array([embed_text(text) for text in tokenized_data])"
   ]
  },
  {
   "cell_type": "code",
   "execution_count": 12,
   "metadata": {},
   "outputs": [],
   "source": [
    "# Compute cosine similarity\n",
    "cos_sim_data = pd.DataFrame(cosine_similarity(embeddings))"
   ]
  },
  {
   "cell_type": "code",
   "execution_count": 13,
   "metadata": {},
   "outputs": [],
   "source": [
    "# Define recommendation function\n",
    "def give_recommendations(index, print_recommendation=False, print_genres=False):\n",
    "    index_recomm = cos_sim_data.loc[index].sort_values(ascending=False).index.tolist()[1:11]\n",
    "    movies_recomm = data['title'].loc[index_recomm].values\n",
    "    movies_recomm_genres = data['genres'].loc[index_recomm].values\n",
    "    result = {'Movies': movies_recomm, 'Index': index_recomm}\n",
    "    if print_recommendation:\n",
    "        print('The watched movie is: %s, its genres: %r\\n' % (data['title'].loc[index], data['genres'].loc[index]))\n",
    "        for i in range(len(movies_recomm)):\n",
    "            print('Rank %i recommended movie is: %s, its genres: %r\\n' % (i+1, movies_recomm[i], movies_recomm_genres[i]))\n",
    "    return result"
   ]
  },
  {
   "cell_type": "code",
   "execution_count": 14,
   "metadata": {},
   "outputs": [
    {
     "name": "stdout",
     "output_type": "stream",
     "text": [
      "The watched movie is: Jumanji (1995), its genres: \"Adventure Children's Fantasy\"\n",
      "\n",
      "Rank 1 recommended movie is: NeverEnding Story, The (1984), its genres: \"Adventure Children's Fantasy\"\n",
      "\n",
      "Rank 2 recommended movie is: Darby O'Gill and the Little People (1959), its genres: \"Adventure Children's Fantasy\"\n",
      "\n",
      "Rank 3 recommended movie is: NeverEnding Story III, The (1994), its genres: \"Adventure Children's Fantasy\"\n",
      "\n",
      "Rank 4 recommended movie is: Kids of the Round Table (1995), its genres: \"Adventure Children's Fantasy\"\n",
      "\n",
      "Rank 5 recommended movie is: Indian in the Cupboard, The (1995), its genres: \"Adventure Children's Fantasy\"\n",
      "\n",
      "Rank 6 recommended movie is: Labyrinth (1986), its genres: \"Adventure Children's Fantasy\"\n",
      "\n",
      "Rank 7 recommended movie is: Escape to Witch Mountain (1975), its genres: \"Adventure Children's Fantasy\"\n",
      "\n",
      "Rank 8 recommended movie is: Jumanji (1995), its genres: \"Adventure Children's Fantasy\"\n",
      "\n",
      "Rank 9 recommended movie is: Quest for Camelot (1998), its genres: \"Adventure Animation Children's Fantasy\"\n",
      "\n",
      "Rank 10 recommended movie is: Star Kid (1997), its genres: \"Adventure Children's Fantasy Sci-Fi\"\n",
      "\n"
     ]
    },
    {
     "data": {
      "text/plain": [
       "{'Movies': array(['NeverEnding Story, The (1984)',\n",
       "        \"Darby O'Gill and the Little People (1959)\",\n",
       "        'NeverEnding Story III, The (1994)',\n",
       "        'Kids of the Round Table (1995)',\n",
       "        'Indian in the Cupboard, The (1995)', 'Labyrinth (1986)',\n",
       "        'Escape to Witch Mountain (1975)', 'Jumanji (1995)',\n",
       "        'Quest for Camelot (1998)', 'Star Kid (1997)'], dtype=object),\n",
       " 'Index': [2092, 1974, 124, 55, 59, 1898, 996, 1, 1812, 1698]}"
      ]
     },
     "execution_count": 14,
     "metadata": {},
     "output_type": "execute_result"
    }
   ],
   "source": [
    "give_recommendations(1, True)"
   ]
  },
  {
   "cell_type": "code",
   "execution_count": null,
   "metadata": {},
   "outputs": [],
   "source": []
  }
 ],
 "metadata": {
  "kernelspec": {
   "display_name": "base",
   "language": "python",
   "name": "python3"
  },
  "language_info": {
   "codemirror_mode": {
    "name": "ipython",
    "version": 3
   },
   "file_extension": ".py",
   "mimetype": "text/x-python",
   "name": "python",
   "nbconvert_exporter": "python",
   "pygments_lexer": "ipython3",
   "version": "3.9.13"
  },
  "orig_nbformat": 4
 },
 "nbformat": 4,
 "nbformat_minor": 2
}
