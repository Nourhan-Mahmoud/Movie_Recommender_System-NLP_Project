{
 "cells": [
  {
   "cell_type": "code",
   "execution_count": 1,
   "metadata": {},
   "outputs": [
    {
     "name": "stdout",
     "output_type": "stream",
     "text": [
      "Collecting sentence_transformers\n",
      "  Downloading sentence-transformers-2.2.2.tar.gz (85 kB)\n",
      "     -------------------------------------- 86.0/86.0 kB 958.4 kB/s eta 0:00:00\n",
      "  Preparing metadata (setup.py): started\n",
      "  Preparing metadata (setup.py): finished with status 'done'\n",
      "Requirement already satisfied: transformers<5.0.0,>=4.6.0 in c:\\users\\ahmed\\.conda\\envs\\nn\\lib\\site-packages (from sentence_transformers) (4.24.0)\n",
      "Requirement already satisfied: tqdm in c:\\users\\ahmed\\.conda\\envs\\nn\\lib\\site-packages (from sentence_transformers) (4.64.1)\n",
      "Requirement already satisfied: torch>=1.6.0 in c:\\users\\ahmed\\.conda\\envs\\nn\\lib\\site-packages (from sentence_transformers) (1.13.0)\n",
      "Requirement already satisfied: torchvision in c:\\users\\ahmed\\.conda\\envs\\nn\\lib\\site-packages (from sentence_transformers) (0.14.0)\n",
      "Requirement already satisfied: numpy in c:\\users\\ahmed\\.conda\\envs\\nn\\lib\\site-packages (from sentence_transformers) (1.22.4)\n",
      "Requirement already satisfied: scikit-learn in c:\\users\\ahmed\\.conda\\envs\\nn\\lib\\site-packages (from sentence_transformers) (1.1.3)\n",
      "Requirement already satisfied: scipy in c:\\users\\ahmed\\.conda\\envs\\nn\\lib\\site-packages (from sentence_transformers) (1.7.3)\n",
      "Requirement already satisfied: nltk in c:\\users\\ahmed\\.conda\\envs\\nn\\lib\\site-packages (from sentence_transformers) (3.6)\n",
      "Collecting sentencepiece\n",
      "  Downloading sentencepiece-0.1.99-cp310-cp310-win_amd64.whl (977 kB)\n",
      "     -------------------------------------- 977.5/977.5 kB 2.7 MB/s eta 0:00:00\n",
      "Requirement already satisfied: huggingface-hub>=0.4.0 in c:\\users\\ahmed\\.conda\\envs\\nn\\lib\\site-packages (from sentence_transformers) (0.10.1)\n",
      "Requirement already satisfied: filelock in c:\\users\\ahmed\\.conda\\envs\\nn\\lib\\site-packages (from huggingface-hub>=0.4.0->sentence_transformers) (3.6.0)\n",
      "Requirement already satisfied: typing-extensions>=3.7.4.3 in c:\\users\\ahmed\\.conda\\envs\\nn\\lib\\site-packages (from huggingface-hub>=0.4.0->sentence_transformers) (4.3.0)\n",
      "Requirement already satisfied: packaging>=20.9 in c:\\users\\ahmed\\.conda\\envs\\nn\\lib\\site-packages (from huggingface-hub>=0.4.0->sentence_transformers) (21.3)\n",
      "Requirement already satisfied: pyyaml>=5.1 in c:\\users\\ahmed\\.conda\\envs\\nn\\lib\\site-packages (from huggingface-hub>=0.4.0->sentence_transformers) (6.0)\n",
      "Requirement already satisfied: requests in c:\\users\\ahmed\\.conda\\envs\\nn\\lib\\site-packages (from huggingface-hub>=0.4.0->sentence_transformers) (2.28.1)\n",
      "Requirement already satisfied: tokenizers!=0.11.3,<0.14,>=0.11.1 in c:\\users\\ahmed\\.conda\\envs\\nn\\lib\\site-packages (from transformers<5.0.0,>=4.6.0->sentence_transformers) (0.11.4)\n",
      "Requirement already satisfied: regex!=2019.12.17 in c:\\users\\ahmed\\.conda\\envs\\nn\\lib\\site-packages (from transformers<5.0.0,>=4.6.0->sentence_transformers) (2022.7.9)\n",
      "Requirement already satisfied: colorama in c:\\users\\ahmed\\appdata\\roaming\\python\\python310\\site-packages (from tqdm->sentence_transformers) (0.4.6)\n",
      "Requirement already satisfied: click in c:\\users\\ahmed\\.conda\\envs\\nn\\lib\\site-packages (from nltk->sentence_transformers) (8.0.4)\n",
      "Requirement already satisfied: joblib in c:\\users\\ahmed\\.conda\\envs\\nn\\lib\\site-packages (from nltk->sentence_transformers) (1.2.0)\n",
      "Requirement already satisfied: threadpoolctl>=2.0.0 in c:\\users\\ahmed\\.conda\\envs\\nn\\lib\\site-packages (from scikit-learn->sentence_transformers) (3.1.0)\n",
      "Requirement already satisfied: pillow!=8.3.*,>=5.3.0 in c:\\users\\ahmed\\.conda\\envs\\nn\\lib\\site-packages (from torchvision->sentence_transformers) (9.2.0)\n",
      "Requirement already satisfied: pyparsing!=3.0.5,>=2.0.2 in c:\\users\\ahmed\\.conda\\envs\\nn\\lib\\site-packages (from packaging>=20.9->huggingface-hub>=0.4.0->sentence_transformers) (3.0.9)\n",
      "Requirement already satisfied: idna<4,>=2.5 in c:\\users\\ahmed\\.conda\\envs\\nn\\lib\\site-packages (from requests->huggingface-hub>=0.4.0->sentence_transformers) (3.4)\n",
      "Requirement already satisfied: urllib3<1.27,>=1.21.1 in c:\\users\\ahmed\\.conda\\envs\\nn\\lib\\site-packages (from requests->huggingface-hub>=0.4.0->sentence_transformers) (1.26.12)\n",
      "Requirement already satisfied: certifi>=2017.4.17 in c:\\users\\ahmed\\.conda\\envs\\nn\\lib\\site-packages (from requests->huggingface-hub>=0.4.0->sentence_transformers) (2022.9.24)\n",
      "Requirement already satisfied: charset-normalizer<3,>=2 in c:\\users\\ahmed\\.conda\\envs\\nn\\lib\\site-packages (from requests->huggingface-hub>=0.4.0->sentence_transformers) (2.0.4)\n",
      "Building wheels for collected packages: sentence_transformers\n",
      "  Building wheel for sentence_transformers (setup.py): started\n",
      "  Building wheel for sentence_transformers (setup.py): finished with status 'done'\n",
      "  Created wheel for sentence_transformers: filename=sentence_transformers-2.2.2-py3-none-any.whl size=125925 sha256=110f6a730de6cc1c1f0e6a794c63dabfd9e8de257210474324b388ce42476cd8\n",
      "  Stored in directory: c:\\users\\ahmed\\appdata\\local\\pip\\cache\\wheels\\62\\f2\\10\\1e606fd5f02395388f74e7462910fe851042f97238cbbd902f\n",
      "Successfully built sentence_transformers\n",
      "Installing collected packages: sentencepiece, sentence_transformers\n",
      "Successfully installed sentence_transformers-2.2.2 sentencepiece-0.1.99\n",
      "Note: you may need to restart the kernel to use updated packages.\n"
     ]
    }
   ],
   "source": [
    "pip install sentence_transformers"
   ]
  },
  {
   "cell_type": "code",
   "execution_count": 2,
   "metadata": {},
   "outputs": [],
   "source": [
    "import matplotlib.pyplot as plt\n",
    "import numpy as np\n",
    "from sentence_transformers import SentenceTransformer\n",
    "import pandas as pd\n",
    "import seaborn as sns\n",
    "from sklearn.feature_extraction.text import CountVectorizer\n",
    "from sklearn.cluster import KMeans\n",
    "from sklearn.metrics.pairwise import cosine_similarity\n",
    "from sklearn.decomposition import PCA"
   ]
  },
  {
   "cell_type": "code",
   "execution_count": 3,
   "metadata": {},
   "outputs": [],
   "source": [
    "data = pd.read_csv('movies.csv')\n",
    "X = np.array(data.genres)"
   ]
  },
  {
   "cell_type": "code",
   "execution_count": 4,
   "metadata": {},
   "outputs": [
    {
     "data": {
      "application/vnd.jupyter.widget-view+json": {
       "model_id": "8ea99c9eab4e4945a0f0d8e5c24ad5cc",
       "version_major": 2,
       "version_minor": 0
      },
      "text/plain": [
       "Downloading:   0%|          | 0.00/690 [00:00<?, ?B/s]"
      ]
     },
     "metadata": {},
     "output_type": "display_data"
    },
    {
     "data": {
      "application/vnd.jupyter.widget-view+json": {
       "model_id": "1bbd32798883459cb29d2678e3298b83",
       "version_major": 2,
       "version_minor": 0
      },
      "text/plain": [
       "Downloading:   0%|          | 0.00/190 [00:00<?, ?B/s]"
      ]
     },
     "metadata": {},
     "output_type": "display_data"
    },
    {
     "data": {
      "application/vnd.jupyter.widget-view+json": {
       "model_id": "7c85b7b7e12b4e73aa31fc3df5cb9157",
       "version_major": 2,
       "version_minor": 0
      },
      "text/plain": [
       "Downloading:   0%|          | 0.00/3.99k [00:00<?, ?B/s]"
      ]
     },
     "metadata": {},
     "output_type": "display_data"
    },
    {
     "data": {
      "application/vnd.jupyter.widget-view+json": {
       "model_id": "2623f35028c143cea5416ddffedad586",
       "version_major": 2,
       "version_minor": 0
      },
      "text/plain": [
       "Downloading:   0%|          | 0.00/550 [00:00<?, ?B/s]"
      ]
     },
     "metadata": {},
     "output_type": "display_data"
    },
    {
     "data": {
      "application/vnd.jupyter.widget-view+json": {
       "model_id": "6ba70eb300b046ec97a16d22850a6a5e",
       "version_major": 2,
       "version_minor": 0
      },
      "text/plain": [
       "Downloading:   0%|          | 0.00/122 [00:00<?, ?B/s]"
      ]
     },
     "metadata": {},
     "output_type": "display_data"
    },
    {
     "data": {
      "application/vnd.jupyter.widget-view+json": {
       "model_id": "b0733ef543a24c5f9426cf9b0232bca3",
       "version_major": 2,
       "version_minor": 0
      },
      "text/plain": [
       "Downloading:   0%|          | 0.00/265M [00:00<?, ?B/s]"
      ]
     },
     "metadata": {},
     "output_type": "display_data"
    },
    {
     "data": {
      "application/vnd.jupyter.widget-view+json": {
       "model_id": "c9cea7d18ea54ecc9dfb750aa3ce5fa5",
       "version_major": 2,
       "version_minor": 0
      },
      "text/plain": [
       "Downloading:   0%|          | 0.00/53.0 [00:00<?, ?B/s]"
      ]
     },
     "metadata": {},
     "output_type": "display_data"
    },
    {
     "data": {
      "application/vnd.jupyter.widget-view+json": {
       "model_id": "7df619d5ed754e11ba1fd2d04d354402",
       "version_major": 2,
       "version_minor": 0
      },
      "text/plain": [
       "Downloading:   0%|          | 0.00/112 [00:00<?, ?B/s]"
      ]
     },
     "metadata": {},
     "output_type": "display_data"
    },
    {
     "data": {
      "application/vnd.jupyter.widget-view+json": {
       "model_id": "70f757125e2b4e758faffae8eea2ff72",
       "version_major": 2,
       "version_minor": 0
      },
      "text/plain": [
       "Downloading:   0%|          | 0.00/466k [00:00<?, ?B/s]"
      ]
     },
     "metadata": {},
     "output_type": "display_data"
    },
    {
     "data": {
      "application/vnd.jupyter.widget-view+json": {
       "model_id": "674424909c6d408387b2102f3898d1b7",
       "version_major": 2,
       "version_minor": 0
      },
      "text/plain": [
       "Downloading:   0%|          | 0.00/450 [00:00<?, ?B/s]"
      ]
     },
     "metadata": {},
     "output_type": "display_data"
    },
    {
     "data": {
      "application/vnd.jupyter.widget-view+json": {
       "model_id": "6875d8d5895242e89cc8d589a717fcf8",
       "version_major": 2,
       "version_minor": 0
      },
      "text/plain": [
       "Downloading:   0%|          | 0.00/232k [00:00<?, ?B/s]"
      ]
     },
     "metadata": {},
     "output_type": "display_data"
    },
    {
     "data": {
      "application/vnd.jupyter.widget-view+json": {
       "model_id": "f130f4c07e3947adb20630fbe5ffa949",
       "version_major": 2,
       "version_minor": 0
      },
      "text/plain": [
       "Downloading:   0%|          | 0.00/229 [00:00<?, ?B/s]"
      ]
     },
     "metadata": {},
     "output_type": "display_data"
    },
    {
     "data": {
      "application/vnd.jupyter.widget-view+json": {
       "model_id": "69d7396f78aa4114b4bc532925b00783",
       "version_major": 2,
       "version_minor": 0
      },
      "text/plain": [
       "Batches:   0%|          | 0/122 [00:00<?, ?it/s]"
      ]
     },
     "metadata": {},
     "output_type": "display_data"
    }
   ],
   "source": [
    "text_data = X\n",
    "model = SentenceTransformer('distilbert-base-nli-mean-tokens')\n",
    "embeddings = model.encode(text_data, show_progress_bar=True)"
   ]
  },
  {
   "cell_type": "code",
   "execution_count": 5,
   "metadata": {},
   "outputs": [],
   "source": [
    "cos_sim_data = pd.DataFrame(cosine_similarity(embeddings))"
   ]
  },
  {
   "cell_type": "code",
   "execution_count": 11,
   "metadata": {},
   "outputs": [
    {
     "data": {
      "text/html": [
       "<div>\n",
       "<style scoped>\n",
       "    .dataframe tbody tr th:only-of-type {\n",
       "        vertical-align: middle;\n",
       "    }\n",
       "\n",
       "    .dataframe tbody tr th {\n",
       "        vertical-align: top;\n",
       "    }\n",
       "\n",
       "    .dataframe thead th {\n",
       "        text-align: right;\n",
       "    }\n",
       "</style>\n",
       "<table border=\"1\" class=\"dataframe\">\n",
       "  <thead>\n",
       "    <tr style=\"text-align: right;\">\n",
       "      <th></th>\n",
       "      <th>0</th>\n",
       "      <th>1</th>\n",
       "      <th>2</th>\n",
       "      <th>3</th>\n",
       "      <th>4</th>\n",
       "      <th>5</th>\n",
       "      <th>6</th>\n",
       "      <th>7</th>\n",
       "      <th>8</th>\n",
       "      <th>9</th>\n",
       "      <th>...</th>\n",
       "      <th>3873</th>\n",
       "      <th>3874</th>\n",
       "      <th>3875</th>\n",
       "      <th>3876</th>\n",
       "      <th>3877</th>\n",
       "      <th>3878</th>\n",
       "      <th>3879</th>\n",
       "      <th>3880</th>\n",
       "      <th>3881</th>\n",
       "      <th>3882</th>\n",
       "    </tr>\n",
       "  </thead>\n",
       "  <tbody>\n",
       "    <tr>\n",
       "      <th>0</th>\n",
       "      <td>1.000000</td>\n",
       "      <td>0.742909</td>\n",
       "      <td>0.608846</td>\n",
       "      <td>0.670117</td>\n",
       "      <td>0.676181</td>\n",
       "      <td>0.204250</td>\n",
       "      <td>0.608846</td>\n",
       "      <td>0.681335</td>\n",
       "      <td>0.288585</td>\n",
       "      <td>0.231479</td>\n",
       "      <td>...</td>\n",
       "      <td>0.676181</td>\n",
       "      <td>0.670118</td>\n",
       "      <td>0.379071</td>\n",
       "      <td>0.179057</td>\n",
       "      <td>0.350133</td>\n",
       "      <td>0.676181</td>\n",
       "      <td>0.386236</td>\n",
       "      <td>0.386236</td>\n",
       "      <td>0.386236</td>\n",
       "      <td>0.288858</td>\n",
       "    </tr>\n",
       "    <tr>\n",
       "      <th>1</th>\n",
       "      <td>0.742909</td>\n",
       "      <td>1.000000</td>\n",
       "      <td>0.538997</td>\n",
       "      <td>0.502862</td>\n",
       "      <td>0.562338</td>\n",
       "      <td>0.309671</td>\n",
       "      <td>0.538997</td>\n",
       "      <td>0.914236</td>\n",
       "      <td>0.445192</td>\n",
       "      <td>0.423352</td>\n",
       "      <td>...</td>\n",
       "      <td>0.562338</td>\n",
       "      <td>0.502862</td>\n",
       "      <td>0.354828</td>\n",
       "      <td>0.302125</td>\n",
       "      <td>0.520379</td>\n",
       "      <td>0.562338</td>\n",
       "      <td>0.462271</td>\n",
       "      <td>0.462271</td>\n",
       "      <td>0.462271</td>\n",
       "      <td>0.401916</td>\n",
       "    </tr>\n",
       "    <tr>\n",
       "      <th>2</th>\n",
       "      <td>0.608846</td>\n",
       "      <td>0.538997</td>\n",
       "      <td>1.000000</td>\n",
       "      <td>0.881119</td>\n",
       "      <td>0.833885</td>\n",
       "      <td>0.449341</td>\n",
       "      <td>1.000000</td>\n",
       "      <td>0.528796</td>\n",
       "      <td>0.433554</td>\n",
       "      <td>0.520940</td>\n",
       "      <td>...</td>\n",
       "      <td>0.833884</td>\n",
       "      <td>0.881119</td>\n",
       "      <td>0.412435</td>\n",
       "      <td>0.481852</td>\n",
       "      <td>0.569144</td>\n",
       "      <td>0.833884</td>\n",
       "      <td>0.560217</td>\n",
       "      <td>0.560217</td>\n",
       "      <td>0.560217</td>\n",
       "      <td>0.578279</td>\n",
       "    </tr>\n",
       "    <tr>\n",
       "      <th>3</th>\n",
       "      <td>0.670117</td>\n",
       "      <td>0.502862</td>\n",
       "      <td>0.881119</td>\n",
       "      <td>1.000000</td>\n",
       "      <td>0.930465</td>\n",
       "      <td>0.492471</td>\n",
       "      <td>0.881119</td>\n",
       "      <td>0.512211</td>\n",
       "      <td>0.516248</td>\n",
       "      <td>0.541614</td>\n",
       "      <td>...</td>\n",
       "      <td>0.930465</td>\n",
       "      <td>1.000000</td>\n",
       "      <td>0.401684</td>\n",
       "      <td>0.516617</td>\n",
       "      <td>0.643770</td>\n",
       "      <td>0.930465</td>\n",
       "      <td>0.715912</td>\n",
       "      <td>0.715911</td>\n",
       "      <td>0.715911</td>\n",
       "      <td>0.671183</td>\n",
       "    </tr>\n",
       "    <tr>\n",
       "      <th>4</th>\n",
       "      <td>0.676181</td>\n",
       "      <td>0.562338</td>\n",
       "      <td>0.833885</td>\n",
       "      <td>0.930465</td>\n",
       "      <td>1.000000</td>\n",
       "      <td>0.360938</td>\n",
       "      <td>0.833885</td>\n",
       "      <td>0.639367</td>\n",
       "      <td>0.652417</td>\n",
       "      <td>0.454946</td>\n",
       "      <td>...</td>\n",
       "      <td>1.000000</td>\n",
       "      <td>0.930465</td>\n",
       "      <td>0.392452</td>\n",
       "      <td>0.386235</td>\n",
       "      <td>0.664495</td>\n",
       "      <td>1.000000</td>\n",
       "      <td>0.755545</td>\n",
       "      <td>0.755545</td>\n",
       "      <td>0.755545</td>\n",
       "      <td>0.547478</td>\n",
       "    </tr>\n",
       "  </tbody>\n",
       "</table>\n",
       "<p>5 rows × 3883 columns</p>\n",
       "</div>"
      ],
      "text/plain": [
       "       0         1         2         3         4         5         6     \\\n",
       "0  1.000000  0.742909  0.608846  0.670117  0.676181  0.204250  0.608846   \n",
       "1  0.742909  1.000000  0.538997  0.502862  0.562338  0.309671  0.538997   \n",
       "2  0.608846  0.538997  1.000000  0.881119  0.833885  0.449341  1.000000   \n",
       "3  0.670117  0.502862  0.881119  1.000000  0.930465  0.492471  0.881119   \n",
       "4  0.676181  0.562338  0.833885  0.930465  1.000000  0.360938  0.833885   \n",
       "\n",
       "       7         8         9     ...      3873      3874      3875      3876  \\\n",
       "0  0.681335  0.288585  0.231479  ...  0.676181  0.670118  0.379071  0.179057   \n",
       "1  0.914236  0.445192  0.423352  ...  0.562338  0.502862  0.354828  0.302125   \n",
       "2  0.528796  0.433554  0.520940  ...  0.833884  0.881119  0.412435  0.481852   \n",
       "3  0.512211  0.516248  0.541614  ...  0.930465  1.000000  0.401684  0.516617   \n",
       "4  0.639367  0.652417  0.454946  ...  1.000000  0.930465  0.392452  0.386235   \n",
       "\n",
       "       3877      3878      3879      3880      3881      3882  \n",
       "0  0.350133  0.676181  0.386236  0.386236  0.386236  0.288858  \n",
       "1  0.520379  0.562338  0.462271  0.462271  0.462271  0.401916  \n",
       "2  0.569144  0.833884  0.560217  0.560217  0.560217  0.578279  \n",
       "3  0.643770  0.930465  0.715912  0.715911  0.715911  0.671183  \n",
       "4  0.664495  1.000000  0.755545  0.755545  0.755545  0.547478  \n",
       "\n",
       "[5 rows x 3883 columns]"
      ]
     },
     "execution_count": 11,
     "metadata": {},
     "output_type": "execute_result"
    }
   ],
   "source": [
    "cos_sim_data.head()"
   ]
  },
  {
   "cell_type": "code",
   "execution_count": 9,
   "metadata": {},
   "outputs": [],
   "source": [
    "cos_sim_data.to_csv('cos_sim_data.csv', index=False)"
   ]
  },
  {
   "cell_type": "code",
   "execution_count": 14,
   "metadata": {},
   "outputs": [],
   "source": [
    "def give_recommendations(index,print_recommendation = False,print_genres =False):\n",
    "  index_recomm =cos_sim_data.loc[index].sort_values(ascending=False).index.tolist()[0:15]\n",
    "  movies_recomm =  data['title'].loc[index_recomm].values\n",
    "  movies_recomm_genres = data['genres'].loc[index_recomm].values\n",
    "  result = {'Movies':movies_recomm,'Index':index_recomm}\n",
    "  if print_recommendation==True:\n",
    "    print('The watched movie is : %s , its generes : %r \\n'%(data['title'].loc[index],data['genres'].loc[index]))\n",
    "    for i in range(len(movies_recomm)):\n",
    "      print('Rank %i recommended movie is : %s , its generes : %r \\n'%(i+1,movies_recomm[i],movies_recomm_genres[i]))\n",
    "  return result"
   ]
  },
  {
   "cell_type": "code",
   "execution_count": 30,
   "metadata": {},
   "outputs": [
    {
     "name": "stdout",
     "output_type": "stream",
     "text": [
      "The watched movie is : Jumanji (1995) , its generes : \"Adventure Children's Fantasy\" \n",
      "\n",
      "Rank 1 recommended movie is : NeverEnding Story III, The (1994) , its generes : \"Adventure Children's Fantasy\" \n",
      "\n",
      "Rank 2 recommended movie is : Indian in the Cupboard, The (1995) , its generes : \"Adventure Children's Fantasy\" \n",
      "\n",
      "Rank 3 recommended movie is : Kids of the Round Table (1995) , its generes : \"Adventure Children's Fantasy\" \n",
      "\n",
      "Rank 4 recommended movie is : NeverEnding Story, The (1984) , its generes : \"Adventure Children's Fantasy\" \n",
      "\n",
      "Rank 5 recommended movie is : Jumanji (1995) , its generes : \"Adventure Children's Fantasy\" \n",
      "\n",
      "Rank 6 recommended movie is : Darby O'Gill and the Little People (1959) , its generes : \"Adventure Children's Fantasy\" \n",
      "\n",
      "Rank 7 recommended movie is : Escape to Witch Mountain (1975) , its generes : \"Adventure Children's Fantasy\" \n",
      "\n",
      "Rank 8 recommended movie is : Goonies, The (1985) , its generes : \"Adventure Children's Fantasy\" \n",
      "\n",
      "Rank 9 recommended movie is : Simple Wish, A (1997) , its generes : \"Children's Fantasy\" \n",
      "\n",
      "Rank 10 recommended movie is : Jungle Book, The (1994) , its generes : \"Adventure Children's Romance\" \n",
      "\n"
     ]
    }
   ],
   "source": [
    "res = give_recommendations_with_contentBased(3,cos_sim_data,data)"
   ]
  },
  {
   "cell_type": "code",
   "execution_count": 18,
   "metadata": {},
   "outputs": [
    {
     "data": {
      "text/plain": [
       "{'Movies': array(['NeverEnding Story III, The (1994)',\n",
       "        'Indian in the Cupboard, The (1995)',\n",
       "        'Kids of the Round Table (1995)', 'NeverEnding Story, The (1984)',\n",
       "        'Jumanji (1995)', \"Darby O'Gill and the Little People (1959)\",\n",
       "        'Escape to Witch Mountain (1975)', 'Goonies, The (1985)',\n",
       "        'Simple Wish, A (1997)', 'Jungle Book, The (1994)'], dtype=object),\n",
       " 'Index': [124, 59, 55, 2092, 1, 1974, 996, 1936, 1542, 358]}"
      ]
     },
     "execution_count": 30,
     "metadata": {},
     "output_type": "execute_result"
    }
   ],
   "source": [
    "give_recommendations(1,True)"
   ]
  },
  {
   "cell_type": "code",
   "execution_count": null,
   "metadata": {},
   "outputs": [],
   "source": []
  }
 ],
 "metadata": {
  "kernelspec": {
   "display_name": "base",
   "language": "python",
   "name": "python3"
  },
  "language_info": {
   "codemirror_mode": {
    "name": "ipython",
    "version": 3
   },
   "file_extension": ".py",
   "mimetype": "text/x-python",
   "name": "python",
   "nbconvert_exporter": "python",
   "pygments_lexer": "ipython3",
   "version": "3.10.6"
  },
  "orig_nbformat": 4
 },
 "nbformat": 4,
 "nbformat_minor": 2
}
